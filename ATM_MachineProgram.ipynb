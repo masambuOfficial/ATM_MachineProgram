{
  "cells": [
    {
      "cell_type": "markdown",
      "metadata": {
        "id": "view-in-github",
        "colab_type": "text"
      },
      "source": [
        "<a href=\"https://colab.research.google.com/github/mgraphics360/ATM_MachineProgram/blob/main/ATM_MachineProgram.ipynb\" target=\"_parent\"><img src=\"https://colab.research.google.com/assets/colab-badge.svg\" alt=\"Open In Colab\"/></a>"
      ]
    },
    {
      "cell_type": "code",
      "execution_count": null,
      "metadata": {
        "id": "strgCuz4-CGO"
      },
      "outputs": [],
      "source": [
        "# 1. Develop a system with one function that prompts a user to enter name, pin and once a pin is valid\n",
        "# 2. bal then the system should be able to reduce the balance on the account.\n",
        "# 3. Account bal should be displayed after withdraw.\n",
        "def atm():\n",
        "    name=input(\"Enter your name: \")\n",
        "    acc_deposit = int(input(\"Enter amount to Deposit in Shillings:\"))\n",
        "    acc_balance = 0\n",
        "    total_bal = acc_deposit + acc_balance\n",
        "    print(\"Your Account Balance is \" + str(total_bal))\n",
        "    while True:\n",
        "        try:\n",
        "            pin_number =int(input(\"Enter your pin number: \"))\n",
        "        except ValueError:\n",
        "            print(\"Sorry Invalid pin, Put a valid one.\")\n",
        "            continue\n",
        "        else:\n",
        "            break\n",
        "    if pin_number >= 2021:\n",
        "        withdraw = int(input(\"Correct pin, Proceed, Please input amount to withdraw: \"))\n",
        "        x = withdraw\n",
        "    else:\n",
        "        print(\"Sorry Invalid pin, Put a valid one.\")\n",
        "    if x > total_bal:\n",
        "        print(name+\",\" + \" Please deposit more money on your Account\")\n",
        "    else:\n",
        "        amount_deducted = total_bal - withdraw\n",
        "        print(name+\",\" + \" your Account Balance is \" + str(amount_deducted))\n",
        "atm()"
      ]
    }
  ],
  "metadata": {
    "colab": {
      "name": "9/12/2021 - Assignment 1.ipynb",
      "provenance": [],
      "include_colab_link": true
    },
    "kernelspec": {
      "display_name": "Python 3",
      "name": "python3"
    },
    "language_info": {
      "name": "python"
    }
  },
  "nbformat": 4,
  "nbformat_minor": 0
}